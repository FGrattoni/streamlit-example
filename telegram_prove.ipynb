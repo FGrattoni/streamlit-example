{
 "cells": [
  {
   "cell_type": "code",
   "execution_count": 1,
   "metadata": {},
   "outputs": [],
   "source": [
    "import requests\n",
    "\n",
    "def telegram_send_message(message, bot_id, chat_id):\n",
    "    url_req = \"https://api.telegram.org/bot\" + bot_id + \"/sendMessage\" + \"?chat_id=\" + chat_id + \"&text=\" + message + \"&parse_mode=HTML\"\n",
    "    requests.get(url_req)\n",
    "    return True\n",
    "\n",
    "def telegram_send_image(img_url, bot_id, chat_id):\n",
    "    url_req = \"https://api.telegram.org/bot\"+bot_id+\"/sendPhoto?chat_id=\"+chat_id+\"&photo=\"+img_url\n",
    "    requests.get(url_req)\n",
    "    return True\n",
    "\n",
    "def telegram_send_sticker(sticker_ID, bot_id, chat_id):\n",
    "    url_req = \"https://api.telegram.org/bot\"+bot_id+\"/sendSticker?chat_id=\"+chat_id+\"&sticker=\"+sticker_ID\n",
    "    url_req = f\"https://api.telegram.org/bot{bot_id}/sendSticker?chat_id={chat_id}&sticker={sticker_ID}\"\n",
    "    requests.get(url_req)\n",
    "    return True\n",
    "\n",
    "chat_id = \"-934968070\"\n",
    "bot_id = \"5109578944:AAFq0bkcJYFCRVnyJSTXt7mQPlpxw56R7I4\""
   ]
  },
  {
   "cell_type": "code",
   "execution_count": 30,
   "metadata": {},
   "outputs": [
    {
     "data": {
      "text/plain": [
       "True"
      ]
     },
     "execution_count": 30,
     "metadata": {},
     "output_type": "execute_result"
    }
   ],
   "source": [
    "telegram_send_message(\"---\", bot_id, chat_id)"
   ]
  },
  {
   "cell_type": "code",
   "execution_count": 8,
   "metadata": {},
   "outputs": [
    {
     "data": {
      "text/plain": [
       "True"
      ]
     },
     "execution_count": 8,
     "metadata": {},
     "output_type": "execute_result"
    }
   ],
   "source": [
    "telegram_send_sticker(\"https://i.postimg.cc/GmDHYXvY/nubiano-meme-min-2.webp\", bot_id, chat_id)"
   ]
  },
  {
   "cell_type": "code",
   "execution_count": 5,
   "metadata": {},
   "outputs": [
    {
     "data": {
      "text/plain": [
       "True"
      ]
     },
     "execution_count": 5,
     "metadata": {},
     "output_type": "execute_result"
    }
   ],
   "source": [
    "telegram_send_image(\"https://i.postimg.cc/0Q0Qr3zJ/nubiano-meme-min-2.webp\", bot_id, chat_id)"
   ]
  },
  {
   "cell_type": "code",
   "execution_count": 25,
   "metadata": {},
   "outputs": [],
   "source": [
    "parameters = {\n",
    "    \"name\": \"Servitore del teschio\",\n",
    "    \"language\": \"it\"\n",
    "    }\n",
    "api_response = requests.get(\"https://db.ygoprodeck.com/api/v7/cardinfo.php\", params=parameters)\n",
    "if api_response.status_code == 200:\n",
    "        data = api_response.json()\n",
    "        id_card = data[\"data\"][0][\"id\"]\n",
    "\n",
    "        telegram_send_image(\"https://images.ygoprodeck.com/images/cards_cropped/\" + str(id_card) +\".jpg\", bot_id, chat_id)\n"
   ]
  },
  {
   "cell_type": "code",
   "execution_count": null,
   "metadata": {},
   "outputs": [],
   "source": []
  },
  {
   "cell_type": "code",
   "execution_count": 29,
   "metadata": {},
   "outputs": [
    {
     "data": {
      "text/plain": [
       "0"
      ]
     },
     "execution_count": 29,
     "metadata": {},
     "output_type": "execute_result"
    }
   ],
   "source": [
    "vittorie_consecutive_deck1 = 6\n",
    "vittorie_consecutive_deck1 % 2\n",
    "\n",
    "\n"
   ]
  }
 ],
 "metadata": {
  "kernelspec": {
   "display_name": "Python 3",
   "language": "python",
   "name": "python3"
  },
  "language_info": {
   "codemirror_mode": {
    "name": "ipython",
    "version": 3
   },
   "file_extension": ".py",
   "mimetype": "text/x-python",
   "name": "python",
   "nbconvert_exporter": "python",
   "pygments_lexer": "ipython3",
   "version": "3.10.2"
  },
  "orig_nbformat": 4
 },
 "nbformat": 4,
 "nbformat_minor": 2
}
